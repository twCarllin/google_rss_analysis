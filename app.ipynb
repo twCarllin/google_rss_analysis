{
 "cells": [
  {
   "cell_type": "code",
   "execution_count": 35,
   "metadata": {},
   "outputs": [],
   "source": [
    "from datetime import datetime\n",
    "\n",
    "import feedparser\n",
    "import pandas as pd\n",
    "from sklearn.feature_extraction.text import CountVectorizer\n",
    "from sklearn.feature_extraction.text import TfidfTransformer, TfidfVectorizer\n",
    "from boTool import boTool"
   ]
  },
  {
   "cell_type": "code",
   "execution_count": 24,
   "metadata": {},
   "outputs": [],
   "source": [
    "RssFeed = feedparser.parse(f\"https://news.google.com/rss/search?q=iron&hl=en-US&gl=US&ceid=US:en\")"
   ]
  },
  {
   "cell_type": "code",
   "execution_count": 40,
   "metadata": {},
   "outputs": [
    {
     "name": "stdout",
     "output_type": "stream",
     "text": [
      "<a href=\"https://www.dailyunion.com/news/fourth-annual-iron-pour-at-wisconsin-makers-in-whitewater-april/article_0c30f073-83c4-5f0b-8010-252e99a25fe8.html\" target=\"_blank\">Fourth annual iron pour at Wisconsin Makers in Whitewater April 13</a>&nbsp;&nbsp;<font color=\"#6f6f6f\">Daily Union</font><p>WHITEWATER — Wisconsin Makers Inc. will host its fourth annual iron pour on Saturday, April 13.</p>\n"
     ]
    },
    {
     "data": {
      "text/plain": [
       "'Fourth annual iron pour at Wisconsin Makers in Whitewater April 13\\xa0\\xa0Daily UnionWHITEWATER — Wisconsin Makers Inc. will host its fourth annual iron pour on Saturday, April 13.'"
      ]
     },
     "execution_count": 40,
     "metadata": {},
     "output_type": "execute_result"
    }
   ],
   "source": [
    "cleanTool = boTool();\n",
    "print(RssFeed.entries[2].description)\n",
    "cleanTool.clearTag(RssFeed.entries[2].description)"
   ]
  },
  {
   "cell_type": "code",
   "execution_count": 17,
   "metadata": {},
   "outputs": [],
   "source": [
    "# create a dataframe from a word matrix\n",
    "def wm2df(wm, feat_names):\n",
    "    \n",
    "    # create an index for each row\n",
    "    doc_names = ['Doc{:d}'.format(idx) for idx, _ in enumerate(wm)]\n",
    "    df = pd.DataFrame(data=wm.toarray(), index=doc_names,\n",
    "                      columns=feat_names)\n",
    "    return(df)"
   ]
  },
  {
   "cell_type": "code",
   "execution_count": 18,
   "metadata": {},
   "outputs": [],
   "source": [
    "def get_rss_desc(*args):\n",
    "    cleanTool = boTool();\n",
    "    \n",
    "    str_search = \",%20\".join(*args)\n",
    "    RssFeed = feedparser.parse(f\"https://news.google.com/rss/search?q={str_search}&hl=en-US&gl=US&ceid=US:en\")\n",
    "    \n",
    "#     titles = [x.title for x in RssFeed.entries]\n",
    "    descriptions = [cleanTool.clearTag_old(x.description) for x in RssFeed.entries]\n",
    "    return(descriptions) \n"
   ]
  },
  {
   "cell_type": "code",
   "execution_count": 19,
   "metadata": {},
   "outputs": [],
   "source": [
    "def cal_result(titles):\n",
    "    vectorizer = TfidfVectorizer(stop_words=\"english\")\n",
    "    X = vectorizer.fit_transform(titles)\n",
    "    \n",
    "    title_df = wm2df(X, vectorizer.get_feature_names())\n",
    "    sum_df = title_df.sum()\n",
    "    result_df = sum_df[sum_df > 1]\n",
    "    return(result_df)"
   ]
  },
  {
   "cell_type": "code",
   "execution_count": 20,
   "metadata": {},
   "outputs": [],
   "source": [
    "list_desc = get_rss_desc([\"iron\", \"ore\", \"steel\", \"vale\", \"metal\"])"
   ]
  },
  {
   "cell_type": "code",
   "execution_count": 21,
   "metadata": {},
   "outputs": [
    {
     "data": {
      "text/plain": [
       "[b\"<div>UBS hikes iron ore price forecasts again\\xc2\\xa0\\xc2\\xa0The Australian Financial ReviewVale sees 2019 iron ore shipments up to 75 million mt under prior forecast: CFO\\xc2\\xa0\\xc2\\xa0S&amp;P Global PlattsChina's iron ore futures rise as Vale cuts sales estimate\\xc2\\xa0\\xc2\\xa0ReutersIron ore prices set to stay high but coal exports face problems\\xc2\\xa0\\xc2\\xa0ABC NewsIron Ore Miners Have a Good Day as Vale Provides Output Update\\xc2\\xa0\\xc2\\xa0Money Morning Australia<strong>View full coverage on Google News</strong></div>\",\n",
       " b\"<div>Vale's iron ore losses since dam disaster over double planned impact\\xc2\\xa0\\xc2\\xa0S&amp;P Global PlattsBrazilian miner Vale said Tuesday the loss of its iron ore fines output on an annualized basis has totaled about 92.8 million mt/year since the dam disaster in late ...</div>\",\n",
       " b'<div>This Morning in Metals: Shanghai Copper Price Plunges - Steel, Aluminum, Copper, Stainless, Rare Earth, Metal Prices, Forecasting\\xc2\\xa0\\xc2\\xa0MetalMinerThis morning in metals news, the price of copper on the SHFE fell, Australian iron ore exports are impacted by a cyclone and miner Vale SA halted operations at ...</div>',\n",
       " b'<div>Chinese steel mills delay iron ore restocking, eye cheaper alternatives\\xc2\\xa0\\xc2\\xa0ReutersBEIJING (Reuters) - Chinese steel mills are slowing iron ore purchases and seeking cheaper alternatives to Australian supplies after a steep run-up in prices in ...</div>',\n",
       " b\"<div>China's steel growth slows, but ore demand robust, says Fortescue\\xc2\\xa0\\xc2\\xa0The Australian Financial ReviewShanghai | Fortescue Metals chief executive Elizabeth Gaines says growth in Chinese steel production is expected to slow to between 3 per cent and 4 per cent ...</div>\",\n",
       " b'<div>This Morning in Metals: Chinese Steel Prices Move Upward - Steel, Aluminum, Copper, Stainless, Rare Earth, Metal Prices, Forecasting\\xc2\\xa0\\xc2\\xa0MetalMinerThis morning in metals news, Chinese steel prices are up ahead of the peak construction season, mining companies around the world are looking to change the ...</div>',\n",
       " b\"<div>COLUMN-Tug-of-war: China's steel sector grapples short-term bulls, longer-term bears: Russell\\xc2\\xa0\\xc2\\xa0ReutersChina's steel sector, and the imported iron ore upon which it relies, are currently locked in a struggle between largely bearish longer-term structural factors and ...</div>\",\n",
       " b'<div>This Morning in Metals: Industry Groups Call for Removal of Aluminum Tariff - Steel, Aluminum, Copper, Stainless, Rare Earth, Metal Prices, Forecasting\\xc2\\xa0\\xc2\\xa0MetalMinerThis morning in metals news, the Aluminum Association called for the removal of aluminum tariffs on Canada and Mexico, Norsk Hydro offered another update ...</div>',\n",
       " b\"<div>Analysis: Brazil iron ore shortfall could reach 90 million mt/year: sources\\xc2\\xa0\\xc2\\xa0S&amp;P Global PlattsThe iron ore market could lose as much as 90 million mt/year of supplies from Brazil about a quarter of the country's total export capacity from output curbs ...</div>\",\n",
       " b\"<div>China's rebar, iron ore snap 4-day rally on demand concerns\\xc2\\xa0\\xc2\\xa0ReutersSteel futures in China fell on Tuesday, as both rebar and iron ore retreated after rising for four sessions, as slowing economic growth in the world's top ferrous ...</div>\",\n",
       " b'<div>3 Top Mining Stocks to Watch in March\\xc2\\xa0\\xc2\\xa0Motley FoolLooking for top stocks is kind of like prospecting for ore: You have to sift through a whole lot of rubble before you find the good stuff. And when it comes to mining ...</div>',\n",
       " b\"<div>METALS-Shanghai nickel rises on restocking demand expectation\\xc2\\xa0\\xc2\\xa0ReutersChina's nickel futures rose more than 2 percent on Monday alongside steel prices on expectations of tight supply in the market and firm restocking demand at ...</div>\",\n",
       " b\"<div>Stock Picks to Ride a Rally in Steel\\xc2\\xa0\\xc2\\xa0Barron'sTariffs, successful antidumping lawsuits, and President Donald Trump's bid to jump-start U.S. manufacturing are supporting domestic steel makers.</div>\",\n",
       " b'<div>Iron ore prices stabilise\\xc2\\xa0\\xc2\\xa0Business Insider AustraliaIron ore prices finished mixed on Monday as news of supply disruptions in Australia was likely counteracted by weakness in Chinese steel futures.</div>',\n",
       " b'<div>This Morning in Metals: US Agriculture Secretary Makes Case for Steel Quotas on Canada, Mexico - Steel, Aluminum, Copper, Stainless, Rare Earth, Metal Prices, Forecasting\\xc2\\xa0\\xc2\\xa0MetalMinerThis morning in metals news, U.S. Agriculture Secretary Sonny Perdue is looking to convince President Trump to use quotas instead of standard tariffs on ...</div>',\n",
       " b'<div>Cheap iron ore just got a whole lot more expensive\\xc2\\xa0\\xc2\\xa0Business Insider AustraliaLower grade iron ore prices have soared to *fresh* multi-year highs.</div>',\n",
       " b'<div>Global Iron Ore Pellets Market Growth 2019-2024 Industry Status and Outlook.\\xc2\\xa0\\xc2\\xa0Healthcare Industry\\xe2\\x80\\x9cIron Ore Pellets Market 2019\\xe2\\x80\\x9d describes an in-depth evaluation and professional study on the present and future state of the Iron Ore Pellets market across the ...</div>',\n",
       " b\"<div>Surge in international iron ore prices post Brazil supply disruption cheers local miners\\xc2\\xa0\\xc2\\xa0Economic TimesKolkata: A 30% surge in global iron ore prices to $90 a tonne this month following disruption in supply at top producer Vale's mines in Brazil, is expected to ...</div>\",\n",
       " b\"<div>RPT-COLUMN-Mixed signals for China steel and iron ore point to prices drifting lower: Russell\\xc2\\xa0\\xc2\\xa0ReutersChina's steel and iron ore markets are currently crowded with an overload of information, much of it seemingly pulling prices in opposing directions.</div>\",\n",
       " b\"<div>Beleaguered Siberia miner gets boost from iron-ore price surge\\xc2\\xa0\\xc2\\xa0South China Morning PostIRC, a small Siberia iron-ore miner already benefiting from President Xi Jinping's Belt and Road Initiative, has got another boost: a recent surge in ore prices as ...</div>\",\n",
       " b'<div>Iron ore bolsters record earnings, gives budget boost\\xc2\\xa0\\xc2\\xa0The Australian Financial ReviewThe latest government forecasts for iron ore show Australia is headed for a record level of earnings from resource and energy exports.</div>',\n",
       " b'<div>Copper rises as China promises tax cuts, iron ore seen moderating\\xc2\\xa0\\xc2\\xa0The Australian Financial ReviewCopper prices rose after China unveiled economic stimulus measures including tax cuts for manufacturing industry, bolstering the demand outlook. US Secretary ...</div>',\n",
       " b'<div>Analysis: Northwest European steel mill margins continue to slide in Feb\\xc2\\xa0\\xc2\\xa0S&amp;P Global PlattsIndicative margins for Northwest European steel plants producing hot rolled coil dropped further through February, continuing the slide that began in October, ...</div>',\n",
       " b'<div>Iron Ore Prices Up as Steel Price Rises, Market Enters Peak\\xc2\\xa0\\xc2\\xa0Money Morning AustraliaIron ore prices are up again as the steel price has risen and the market enters a traditional peak period. This means the iron ore rally could have a bit more juice ...</div>',\n",
       " b'<div>Supply concerns send iron ore prices sharply higher\\xc2\\xa0\\xc2\\xa0Business Insider AustraliaIron ore prices rocketed higher on Monday, supported by renewed concern over supply disruptions in Brazil, a major global producer.</div>',\n",
       " b\"<div>Mixed signals for China steel and iron ore point to prices drifting lower\\xc2\\xa0\\xc2\\xa0Hellenic Shipping News WorldwideChina's steel and iron ore markets are currently crowded with an overload of information, much of it seemingly pulling prices in opposing directions. The steel.</div>\",\n",
       " b'<div>Analysis: Brazilian miner Vale sells second IOCJ cargo from Oman port this week\\xc2\\xa0\\xc2\\xa0S&amp;P Global PlattsBrazilian miner Vale has surprised markets reporting the sale of two cargoes this week of its flagship Carajas IOCJ 65% Fe fines product from its port complex in ...</div>',\n",
       " b'<div>Vale iron ore dam disaster may force China steel mills to change: Russell\\xc2\\xa0\\xc2\\xa0ReutersChinese steel mills may be forced to modify the way they operate as a result of lower availability of higher grades of iron ore after the collapse of a dam at a mine ...</div>',\n",
       " b'<div>A Glimpse At The Iron Ore Price Direction\\xc2\\xa0\\xc2\\xa0Kalkine MediaIron ore prices plunged amid tighter environmental regulation by Chinese authorities to curb the pollution. The benchmark iron ore future (TIOc1) prices slipped ...</div>',\n",
       " b'<div>Will the share prices of Fortescue Metals and friends come under more pressure today?\\xc2\\xa0\\xc2\\xa0Motley Fool AustraliaShares in our iron ore miners took a big hit as the price of iron ore crashed on news that Vale won court approval to restart one of its mines. But is it time to sell ...</div>',\n",
       " b\"<div>This Morning in Metals: Iron Ore Buyers Could Look to Australia After Vale Disaster - Steel, Aluminum, Copper, Stainless, Rare Earth, Metal Prices, Forecasting\\xc2\\xa0\\xc2\\xa0MetalMinerThis morning in metals news, buyers are turning to Australia after a dam breach at one of Vale's Brazilian iron ore operations, U.S. Sen. Chuck Grassley (R-Iowa) ...</div>\",\n",
       " b'<div>Daily iron ore price update (Rio booms)\\xc2\\xa0\\xc2\\xa0MacroBusinessby Chris Becker. Iron ore prices continue to slide with both spot and futures markets putting in a sixth straight loss. Port inventories rose to just over 145 million ...</div>',\n",
       " b\"<div>Vale's Brazil disaster to prompt buyers to take more Australian iron ore\\xc2\\xa0\\xc2\\xa0ReutersVale SA's catastrophic dam failure in Brazil may knock it off its perch as the biggest iron ore exporter as the resulting rally in high-grade ore prices steers buyers ...</div>\",\n",
       " b'<div>Supply Worries Drive Iron Ore Prices to New Heights - Steel, Aluminum, Copper, Stainless, Rare Earth, Metal Prices, Forecasting\\xc2\\xa0\\xc2\\xa0MetalMinerTwo major dam disasters in three years are enough to put the frighteners on investors and get the media abuzz with talk of supply-side shortages. Yet as small ...</div>',\n",
       " b'<div>Global Iron Ore Pellets Market Analysis Report 2019-2027 : Vale, LKAB, Metso, Arya Group, Rio Tinto, BHP Billiton, Fortescue Metals\\xc2\\xa0\\xc2\\xa0NewsPrimoThe \\xe2\\x80\\x9cIron Ore Pellets Market\\xe2\\x80\\x9d all inclusive is noticeable among the most gigantically grouped market internationally. The Iron Ore Pellets market report gives the ...</div>',\n",
       " b'<div>Raw Steels MMI: Steel Prices Continue to Decline, Iron Ore Surges After Vale Dam Breach - Steel, Aluminum, Copper, Stainless, Rare Earth, Metal Prices, Forecasting\\xc2\\xa0\\xc2\\xa0MetalMinerThe Raw Steels Monthly Metals Index (MMI) posted a one-point increase this month, moving to an MMI reading of 80. Need buying strategies for steel? Request ...</div>',\n",
       " b'<div>Iron Ore\\xe2\\x80\\x99s Rally Is Living on Borrowed Time\\xc2\\xa0\\xc2\\xa0BloombergThose making bullish bets on the metal after the Vale disaster may be in for a dose of karma. Prices are more likely to collapse than extend.</div>',\n",
       " b\"<div>Bulls and Bears: Fortescue firing as iron ore discounts disappear\\xc2\\xa0\\xc2\\xa0The Australian Financial ReviewIt is not so long ago that the boss of US miner Cliffs declared Andrew Forrest's Fortescue Metals Group was on its way to becoming the next Atlas Iron. The false ...</div>\",\n",
       " b'<div>Iron-Ore Prices Jump to Highest Level Since 2014 on Vale Concerns\\xc2\\xa0\\xc2\\xa0Wall Street JournalIron-ore futures prices leapt on Thursday, as *fresh* turmoil for Brazilian miner Vale SA pushed the crucial metal to heights not seen since August 2014.</div>',\n",
       " b'<div>Vale eyes expansion of Brazil iron ore mine to feed Chinese demand\\xc2\\xa0\\xc2\\xa0ReutersDALIAN, China (Reuters) - Mining giant Vale is looking at expanding its flagship iron ore project in Brazil, a company official said, hoping to cash in on a growing ...</div>',\n",
       " b'<div>Morning Market Pulse - Steel production cut as smog fills China skies\\xc2\\xa0\\xc2\\xa0Proactive Investors UKSP Angel \\xe2\\x80\\x93 Morning View \\xe2\\x80\\x93 Monday 04 03 19 Steel production cut as smog fills China skies CLICK FOR PDF MiFID II exempt information \\xe2\\x80\\x93 see disclaimer below ...</div>',\n",
       " b'<div>Chinese iron ore imports predicted to plummet as property pumping wound back\\xc2\\xa0\\xc2\\xa0The West AustralianChina could slash its iron ore imports 40 per cent as its Government winds down its stimulus of an overpriced housing sector, which would have disastrous ...</div>',\n",
       " b'<div>BHP loses iron ore shock trooper\\xc2\\xa0\\xc2\\xa0The Australian Financial ReviewEvery Australian ought to thank Arnoud Balhuizen for his *service*. So who is he? Balhuizen is the chief commercial officer of BHP who has confirmed he will end ...</div>',\n",
       " b\"<div>Analysis: Vale's iron ore mine dam burst comes after end-year rebound in iron ore prices\\xc2\\xa0\\xc2\\xa0S&amp;P Global PlattsIron ore prices may react next week after Vale said the Corrego de Feijao iron ore mine in Brumadinho, Minas Gerais, suffered a breach on Friday, spilling wet ...</div>\",\n",
       " b'<div>This Morning in Metals: Vale Says Drop in Steel Prices is Temporary - Steel, Aluminum, Copper, Stainless, Rare Earth, Metal Prices, Forecasting\\xc2\\xa0\\xc2\\xa0MetalMinerThis morning in metals news, the state of falling global steel prices is a temporary condition attributable to Chinese overproduction ahead of winter cuts, ...</div>',\n",
       " b\"<div>What's Propelling Companhia Sider\\xc3\\xbargica Nacional (SID) to Increase So Much? | Thorold News\\xc2\\xa0\\xc2\\xa0Thorold NewsThe stock of Companhia Sider\\xc3\\xbargica Nacional (NYSE:SID) is a huge mover today! The stock increased 3.94% or $0.15 during the last trading session, ...</div>\",\n",
       " b'<div>Iron Ore Up Again on Further Brazilian Production Cuts\\xc2\\xa0\\xc2\\xa0Money Morning AustraliaIron ore prices are up again as *fresh* news of further Brazilian production cuts filter through the market. Picking the overall trend here is tricky as each bit of news ...</div>',\n",
       " b\"<div>Commodities Roundup: Steel Production, Vale's Dam Breach and Metals Tariffs\\xc2\\xa0\\xc2\\xa0Spend MattersHere's a quick rundown of news and thoughts in commodity markets. This week: Global crude steel production, Vale mining dam fails, metals tariffs.</div>\",\n",
       " b'<div>Why the Fortescue share price is up 3.5% today and 60% in 2019\\xc2\\xa0\\xc2\\xa0Motley Fool AustraliaThe Fortescue Metals Group Limited (ASX:FMG) share price is up 3.5% on Monday to a two-year high. This brings its year to date gain to an impressive 60%...</div>',\n",
       " b'<div>Iron Ore is Defying Gravity (For Now) - Steel, Aluminum, Copper, Stainless, Rare Earth, Metal Prices, Forecasting\\xc2\\xa0\\xc2\\xa0MetalMinerDespite the turmoil of an escalating war of words and the prospect of a full-blown trade war, the price of iron ore has remained remarkably robust this year.</div>',\n",
       " b'<div>Iron Ore In A Bull Market As Demand For Construction Steel Soars In China\\xc2\\xa0\\xc2\\xa0Forbesrising iron ore prices defy reports of a slowing Chinese economy.</div>',\n",
       " b\"<div>Vale to switch pellet pricing to 65% Fe iron ore index\\xc2\\xa0\\xc2\\xa0Metalbulletin.comSpeaking at the company's investor day at the New York Stock Exchange on Tuesday December 4, Poppinga said the decision made sense as the 65% Fe iron ...</div>\",\n",
       " b'<div>News\\xc2\\xa0\\xc2\\xa0Argus MediaBrazilian iron ore mining company Vale has acquired domestic iron ore processing technology firm New Steel for $500mn. New Steel develops iron ore ...</div>',\n",
       " b\"<div>Brazil's Vale declare force majeure on several iron ore and pellet sales contracts\\xc2\\xa0\\xc2\\xa0S&amp;P Global PlattsBesieged iron ore miner Vale, which suffered a fatal dam burst at its Feijao mine in late January, declared force majeure late Tuesday a day after a state court ...</div>\",\n",
       " b'<div>Global Iron Ore Mining Markets Report 2018-2022 Featuring Leading Players - Vale, Rio Tinto, Anglo American Plc, BHP Billiton &amp; Fortescue Metals Group\\xc2\\xa0\\xc2\\xa0PRNewswireDUBLIN, Jan. 18, 2019 /PRNewswire/ -- The \"Global Iron Ore Mining to 2022\" report has been added to ResearchAndMarkets.com\\'s offering. \"Global Iron Ore ...</div>',\n",
       " b\"<div>Iron Ore Rockets as Vale's Supply Disruption Convulses Market\\xc2\\xa0\\xc2\\xa0BloombergThe global iron ore market was pitched into turmoil after Brazil's Vale SA, the world's largest producer, outlined plans to cut output after a deadly dam breach, ...</div>\",\n",
       " b\"<div>This Morning in Metals: Brazil Suspends Operations at Two Vale Facilities - Steel, Aluminum, Copper, Stainless, Rare Earth, Metal Prices, Forecasting\\xc2\\xa0\\xc2\\xa0MetalMinerThis morning in metals news, a Brazilian governmental regulator has suspended operations at two Vale SA facilities, India's steel production jumped 4% year ...</div>\",\n",
       " b'<div>China Iron Ore Demand Could Keep Payouts Coming, Fortescue Says\\xc2\\xa0\\xc2\\xa0BloombergIron ore demand in China is poised to remain strong and help bolster profits for Fortescue Metals Group Ltd., which joined rivals in boosting returns to ...</div>',\n",
       " b\"<div>Analysis: Are BRBF iron ore premiums on the road to recovery in 2019?\\xc2\\xa0\\xc2\\xa0S&amp;P Global PlattsPremiums for Vale's Brazilian Blend iron ore fines (BRBF) against the S&amp;P Global Platts' 62% Iron Ore index went on a roller coaster ride in 2018, hitting a peak ...</div>\",\n",
       " b'<div>Analysis: Steel industry has concerns on iron ore pellet pricing using 65% Fe index\\xc2\\xa0\\xc2\\xa0S&amp;P Global PlattsThe move by Vale and other miners to propose a switch to 65% Fe fines index pricing in pellet contracts from the 62% Fe benchmark IODEX has been met with ...</div>',\n",
       " b\"<div>Rio Tinto Group (NYSE:RIO) Rating Changes as of Mar 27, 2019\\xc2\\xa0\\xc2\\xa0K ReviewerIn total 2 analysts cover Rio Tinto (NYSE:RIO). \\xe2\\x80\\x9cBuy\\xe2\\x80\\x9d rating has 1, \\xe2\\x80\\x9cSell\\xe2\\x80\\x9d are 0, while 1 are \\xe2\\x80\\x9cHold\\xe2\\x80\\x9d. (NYSE:RIO) has 50% bullish analysts. 8 are the (NYSE:RIO)'s ...</div>\",\n",
       " b\"<div>Analysis - Projected iron ore market surplus set to shrink, could touch on deficit: analysts\\xc2\\xa0\\xc2\\xa0S&amp;P Global PlattsIron ore analysts are attempting to quantify the losses to global iron supply of Brazilian miner Vale's planned production cuts following the company's Corrego do ...</div>\",\n",
       " b\"<div>METALS-Nickel soars to four-month high as miner Vale announces force majeure\\xc2\\xa0\\xc2\\xa0ReutersNickel hit its highest in more than four months on Wednesday on concerns that a force majeure by Brazil's Vale on some iron ore contracts could lead to ...</div>\",\n",
       " b\"<div>Vale bets big on truck-free, iron ore mega mine\\xc2\\xa0\\xc2\\xa0Financial TimesMassive Brazilian project is benefiting from China's drive for cleaner air.</div>\",\n",
       " b'<div>When Will China Use Less Iron Ore? Not Yet\\xc2\\xa0\\xc2\\xa0Seeking AlphaAn army of Chinese construction workers needs employment and steel to do their jobs. Rising intensity of steel used per construction worker because of higher ...</div>',\n",
       " b'<div>This Morning in Metals: President Trump Delays Schedule Tariff Increase on China - Steel, Aluminum, Copper, Stainless, Rare Earth, Metal Prices, Forecasting\\xc2\\xa0\\xc2\\xa0MetalMinerThis morning in metals news, President Donald Trump over the weekend announced he would delay the previously scheduled March 1 tariff bump on a wide ...</div>',\n",
       " b\"<div>Brazil's Vale reports third-quarter miss on forex, base metals\\xc2\\xa0\\xc2\\xa0ReutersBrazil's Vale SA on Wednesday posted weaker-than-expected net income, as a weaker currency coupled with lower base metals production and prices weighed ...</div>\",\n",
       " b\"<div>Domestic iron ore miners unlikely to cash in on Vale's woes\\xc2\\xa0\\xc2\\xa0Chinadaily USADomestic iron ore miners are unlikely to ramp up production to fill the supply gap after the bursting of Vale's dam last month in Brazil, due to strict environmental ...</div>\",\n",
       " b\"<div>Rising Iron-Ore Prices Seem to Defy Economic Logic\\xc2\\xa0\\xc2\\xa0BloombergDemand is flat or falling and supply is increasing, so what gives? The explanation could lie in China's sketchy data.</div>\",\n",
       " b\"<div>Analysis - Brazil iron ore exports of 58 mil mt at risk in 2019 on new law hitting operations: Wood Mac\\xc2\\xa0\\xc2\\xa0S&amp;P Global PlattsAround 8 million mt of seaborne Brazilian iron ore supply may be at risk of being lost in 2019, over and above Vale's estimated 50 million mt from southern Brazil ...</div>\",\n",
       " b'<div>HSBC explains why the iron ore rally is likely to fizzle\\xc2\\xa0\\xc2\\xa0Business Insider AustraliaIron ore prices have soared in recent months, especially for low and mid-tier grades.</div>',\n",
       " b\"<div>Vale doubles down on nickel ahead of EV revolution: Andy Home\\xc2\\xa0\\xc2\\xa0ReutersVale, the Brazilian mining giant built on supplying the world's steel mills with iron ore, is now betting on the electric vehicle (EV) revolution to turn its nickel ...</div>\",\n",
       " b\"<div>Nippon Steel cuts full-year profit forecast by 6 percent on lower output\\xc2\\xa0\\xc2\\xa0ReutersJapan's top steelmaker Nippon Steel &amp; Sumitomo Metal Corp on Wednesday warned its annual profit would be 6 percent less than previously forecast, citing ...</div>\",\n",
       " b'<div>China\\xe2\\x80\\x99s Steel Glut Sinks Iron Ore\\xc2\\xa0\\xc2\\xa0Wall Street JournalPrices of iron ore, the main ingredient in steel, have hit four-month lows as Chinese steel mills try to cut costs in a saturated market.</div>',\n",
       " b\"<div>A global industry response to iron ore dams? Count out Cleveland-Cliffs\\xc2\\xa0\\xc2\\xa0S&amp;P Global PlattsUS based iron miner Cleveland Cliffs CEO Lourenco Goncalves' message is: Count me out in response to BHP CEO Andrew Mackenzie's advocacy of a global ...</div>\",\n",
       " b\"<div>UPDATE 2-Fortescue says Vale impact uncertain, sees demand for mid-grade iron ore\\xc2\\xa0\\xc2\\xa0ReutersAustralia's Fortescue Metals Group Ltd said on Thursday it was too early to determine the full effect of a Brazilian mine disaster on iron ore supply, as its shares ...</div>\",\n",
       " b'<div>Vale, Emirates Steel sign major iron ore pellet sourcing deal\\xc2\\xa0\\xc2\\xa0Seeking AlphaVale (VALE -0.6%) says it signed a four-year contract with Emirates Steel, the largest steel producer in the United Arab Emirates, to supply iron ore pellets for ...</div>',\n",
       " b\"<div>Japan steel industry eyes Brazil reaction to Vale dam disaster\\xc2\\xa0\\xc2\\xa0Reuters AfricaJapan's steel industry is closely watching the Brazilian government's reaction to the collapse of a dam operated by miner Vale SA for any impact on iron ore ...</div>\",\n",
       " b\"<div>Vale\\xe2\\x80\\x99s Iron Ore Output Cut To Cushion Indian Steel Prices\\xc2\\xa0\\xc2\\xa0BloombergQuintThe declaration of force majeure following the collapse of a mining-waste dam owned by Brazil's Vale SA\\xe2\\x80\\x94one of the biggest producers of iron ore in the ...</div>\",\n",
       " b'<div>Vale ships iron ore pellets for port sales in China: traders\\xc2\\xa0\\xc2\\xa0S&amp;P Global PlattsBrazilian miner Vale has transported pellets to Chinese ports, and plans to sell pellet on Yuan basis after the Lunar New Year, several sources told S&amp;P Global ...</div>',\n",
       " b\"<div>Bonus Profits And Higher Share Prices For Australian Iron Ore Miners As Brazil's Woes Drag On\\xc2\\xa0\\xc2\\xa0ForbesBrazil's twin mine-dam disasters deliver a profit and share-price boost for rival miners in Australia.</div>\",\n",
       " b\"<div>Vale's changing pellet contracts to 65% Fe basis from 62% Fe\\xc2\\xa0\\xc2\\xa0S&amp;P Global PlattsVale is negotiating a change in its 2019 iron ore pellet contracts from the current 62% Fe delivered basis to the 65% Fe delivered price, the company said ...</div>\",\n",
       " b'<div>4 Iron Ore Juniors with Strong Momentum\\xc2\\xa0\\xc2\\xa0SmallCapPowerToday we have identified four TSX-listed iron ore juniors that are poised to continue to benefit from rising iron ore prices.</div>',\n",
       " b\"<div>Is Vale S.A. a Buy?\\xc2\\xa0\\xc2\\xa0Motley FoolVale S.A. (NYSE:VALE) is one of the world's largest miners, providing customers with the vital materials needed to support modern and developing economies.</div>\",\n",
       " b\"<div>RPT-COLUMN-Vale doubles down on nickel ahead of EV revolution: Andy Home\\xc2\\xa0\\xc2\\xa0ReutersVale, the Brazilian mining giant built on supplying the world's steel mills with iron ore, is now betting on the electric vehicle (EV) revolution to turn its nickel ...</div>\",\n",
       " b\"<div>All residents now out of Brazil's Mar Azul mine area: Vale\\xc2\\xa0\\xc2\\xa0S&amp;P Global PlattsBrazilian iron ore miner Vale said it had moved 110 people in the region of Macacos, Nova Lima, about 15 miles from Belo Horizonte, Minas Gerais, by Sunday ...</div>\",\n",
       " b\"<div>Vale says partial shutdown of Tubarao wastewater treatment plant affecting operations\\xc2\\xa0\\xc2\\xa0S&amp;P Global PlattsThe wastewater treatment plant at Vale's iron ore complex in Tubarao, Esprito Santo state, has been partially shut down, affecting input and coal port services ...</div>\",\n",
       " b\"<div>Brazil authorities' concerns may push Samarco, Alunorte restarts back: analyst\\xc2\\xa0\\xc2\\xa0S&amp;P Global PlattsHeightened environmental awareness in Brazil following Vale's January 25 iron ore tailings dam burst could well lead government authorities to impose further ...</div>\",\n",
       " b\"<div>Goldman Warns Iron Ore's Jump Into the $70s \\xe2\\x80\\x98Is Not Sustainable\\xe2\\x80\\x99\\xc2\\xa0\\xc2\\xa0BloombergIron ore's rally over the past month, with benchmark material pushing back into the $70s, is at risk as banks including Goldman Sachs Group Inc. and Morgan ...</div>\",\n",
       " b'<div>Iron ore quality differentials evolve as market fundamentals shift\\xc2\\xa0\\xc2\\xa0PlattsSince January S&amp;P Global Platts quality differentials for the gangue elements such as alumina, silica and phosphorous have evolved to reflect changing market ...</div>',\n",
       " b\"<div>Nippon Steel aims for output near 11 million tonnes a quarter for 2019/20\\xc2\\xa0\\xc2\\xa0ReutersJapan's top steelmaker Nippon Steel &amp; Sumitomo Metal aims to boost crude steel output to nearly 11 million tonnes a quarter in the year from April 1, after ...</div>\",\n",
       " b\"<div>METALS-Nickel hits 3-month high on Vale production fears, tight supply\\xc2\\xa0\\xc2\\xa0ReutersNickel prices rose to a three-month high on Wednesday as investors worried that one of the world's largest producers, Brazilian miner Vale , could curtail supply ...</div>\",\n",
       " b'<div>Analysis: High grade iron ore premiums unwind while move to low-grade limited long-term\\xc2\\xa0\\xc2\\xa0S&amp;P Global PlattsHigh grade iron ore premiums have taken the biggest knock amid price corrections in China related spot steel and iron ore markets this month, as lower offers ...</div>',\n",
       " b\"<div>Vale may resume Guaiba port terminal iron ore activities\\xc2\\xa0\\xc2\\xa0S&amp;P Global PlattsVale's Guaiba Island terminal can resume operations after an interdiction order was canceled by Mangaratiba city government after the miner presented the ...</div>\",\n",
       " b\"<div>Iron ore rally cools as investors weigh short supply, weak demand\\xc2\\xa0\\xc2\\xa0Seeking AlphaBenchmark iron ore futures in Singapore plunged as much as 7% overnight to $82/ton, set for their first back-to-back decline since Vale's late January dam.</div>\",\n",
       " b\"<div>Vale to temporarily suspend activities at 13 million mt/year Vargem Grande iron ore complex\\xc2\\xa0\\xc2\\xa0S&amp;P Global PlattsVale decided to anticipate the temporary stoppage of production at its Vargem Grande Complex's iron ore concentration plant by halting operations at the entire ...</div>\",\n",
       " b'<div>Vale iron ore production hits record high in Q3\\xc2\\xa0\\xc2\\xa0Financial TimesVale churned out a record amount of iron ore in the three months to the end of September, producing more than 100m tonnes of the steelmaking ingredient for ...</div>',\n",
       " b'<div>Weekly Commodities Strategy: Steel Prices Have Further Room To Run Following Brumadinho Rupture\\xc2\\xa0\\xc2\\xa0Fitch SolutionsSteel prices have received a significant boost in recent days from the iron ore rally following the Brumadinho dam rupture on January 25, and we expect the ...</div>',\n",
       " b\"<div>China's iron ore posts weekly loss, Brazil seeks arrest of Vale executive\\xc2\\xa0\\xc2\\xa0The Australian Financial ReviewChina's benchmark iron ore futures ticked higher in volatile trade on Friday, but posted their first weekly loss this year.</div>\",\n",
       " b'<div>This Morning in Metals: Copper Price Makes Gains - Steel, Aluminum, Copper, Stainless, Rare Earth, Metal Prices, Forecasting\\xc2\\xa0\\xc2\\xa0MetalMinerThis morning in metals news, the copper price picks up, the Bureau of Labor Statistics released Consumer Price Index (CPI) data and the National Australia ...</div>']"
      ]
     },
     "execution_count": 21,
     "metadata": {},
     "output_type": "execute_result"
    }
   ],
   "source": [
    "list_desc"
   ]
  },
  {
   "cell_type": "code",
   "execution_count": 13,
   "metadata": {},
   "outputs": [],
   "source": [
    "result = cal_result(list_titles)"
   ]
  },
  {
   "cell_type": "code",
   "execution_count": 14,
   "metadata": {},
   "outputs": [
    {
     "name": "stdout",
     "output_type": "stream",
     "text": [
      "Index(['2019', 'aluminum', 'analysis', 'australia', 'australian', 'bloomberg',\n",
      "       'brazil', 'business', 'china', 'chinese', 'concerns', 'copper', 'cuts',\n",
      "       'dam', 'demand', 'disaster', 'earth', 'eyes', 'fe', 'financial', 'fool',\n",
      "       'force', 'forecasting', 'fortescue', 'global', 'industry', 'insider',\n",
      "       'iron', 'market', 'media', 'metal', 'metalminer', 'metals', 'mining',\n",
      "       'morning', 'motley', 'news', 'nickel', 'ore', 'pellet', 'platts',\n",
      "       'price', 'prices', 'production', 'rally', 'rare', 'reuters', 'review',\n",
      "       'rio', 'rises', 'says', 'shanghai', 'stainless', 'steel', 'supply',\n",
      "       'vale'],\n",
      "      dtype='object')\n"
     ]
    }
   ],
   "source": [
    "type(result)\n",
    "print(result.index)"
   ]
  },
  {
   "cell_type": "code",
   "execution_count": 69,
   "metadata": {},
   "outputs": [],
   "source": [
    "remove_list = ['news','cnbc', 'forbes', 'doesn', 'year', 'journal', 'street', 'times', 'report', 'bloomberg', 'post', 'says', 'politico', 'cnn', 'reuters', 'icis', 'data', 'com', 'mueller', ]\n",
    "clean_result = result[~result.index.isin(remove_list)]"
   ]
  },
  {
   "cell_type": "code",
   "execution_count": 70,
   "metadata": {},
   "outputs": [
    {
     "data": {
      "text/plain": [
       "economic     2.809308\n",
       "asia         2.413063\n",
       "war          2.392355\n",
       "new          2.351377\n",
       "stocks       2.145164\n",
       "deal         2.004392\n",
       "slowdown     1.769938\n",
       "japan        1.702037\n",
       "slowing      1.521186\n",
       "fears        1.510754\n",
       "growth       1.502618\n",
       "wall         1.493500\n",
       "talks        1.464760\n",
       "week         1.275216\n",
       "amid         1.226188\n",
       "exports      1.219405\n",
       "fed          1.217362\n",
       "market       1.121204\n",
       "york         1.104382\n",
       "financial    1.088830\n",
       "world        1.076655\n",
       "tumble       1.060350\n",
       "ahead        1.057300\n",
       "fall         1.032568\n",
       "recession    1.029573\n",
       "europe       1.010919\n",
       "brexit       1.002289\n",
       "dtype: float64"
      ]
     },
     "execution_count": 70,
     "metadata": {},
     "output_type": "execute_result"
    }
   ],
   "source": [
    "clean_result.sort_values(ascending=False)"
   ]
  },
  {
   "cell_type": "code",
   "execution_count": 7,
   "metadata": {},
   "outputs": [
    {
     "name": "stderr",
     "output_type": "stream",
     "text": [
      "/anaconda3/lib/python3.6/site-packages/ipykernel_launcher.py:2: FutureWarning: The signature of `Series.to_csv` was aligned to that of `DataFrame.to_csv`, and argument 'header' will change its default value from False to True: please pass an explicit value to suppress this warning.\n",
      "  \n"
     ]
    },
    {
     "ename": "FileNotFoundError",
     "evalue": "[Errno 2] No such file or directory: '/Users/carl/Desktop/side_projects/google_rss_analysis/data/2019-03-26.csv'",
     "output_type": "error",
     "traceback": [
      "\u001b[0;31m---------------------------------------------------------------------------\u001b[0m",
      "\u001b[0;31mFileNotFoundError\u001b[0m                         Traceback (most recent call last)",
      "\u001b[0;32m<ipython-input-7-8e5af1f1c7ca>\u001b[0m in \u001b[0;36m<module>\u001b[0;34m\u001b[0m\n\u001b[1;32m      1\u001b[0m \u001b[0mstr_today\u001b[0m \u001b[0;34m=\u001b[0m \u001b[0mdatetime\u001b[0m\u001b[0;34m.\u001b[0m\u001b[0mtoday\u001b[0m\u001b[0;34m(\u001b[0m\u001b[0;34m)\u001b[0m\u001b[0;34m.\u001b[0m\u001b[0mstrftime\u001b[0m\u001b[0;34m(\u001b[0m\u001b[0;34m'%Y-%m-%d'\u001b[0m\u001b[0;34m)\u001b[0m\u001b[0;34m\u001b[0m\u001b[0;34m\u001b[0m\u001b[0m\n\u001b[0;32m----> 2\u001b[0;31m \u001b[0mresult_csv\u001b[0m \u001b[0;34m=\u001b[0m \u001b[0mresult\u001b[0m\u001b[0;34m.\u001b[0m\u001b[0mto_csv\u001b[0m\u001b[0;34m(\u001b[0m\u001b[0;34mf\"/Users/carl/Desktop/side_projects/google_rss_analysis/data/{str_today}.csv\"\u001b[0m\u001b[0;34m)\u001b[0m\u001b[0;34m\u001b[0m\u001b[0;34m\u001b[0m\u001b[0m\n\u001b[0m",
      "\u001b[0;32m/anaconda3/lib/python3.6/site-packages/pandas/core/series.py\u001b[0m in \u001b[0;36mto_csv\u001b[0;34m(self, *args, **kwargs)\u001b[0m\n\u001b[1;32m   4201\u001b[0m                           stacklevel=2)\n\u001b[1;32m   4202\u001b[0m             \u001b[0mkwargs\u001b[0m\u001b[0;34m[\u001b[0m\u001b[0;34m\"header\"\u001b[0m\u001b[0;34m]\u001b[0m \u001b[0;34m=\u001b[0m \u001b[0;32mFalse\u001b[0m  \u001b[0;31m# Backwards compatibility.\u001b[0m\u001b[0;34m\u001b[0m\u001b[0;34m\u001b[0m\u001b[0m\n\u001b[0;32m-> 4203\u001b[0;31m         \u001b[0;32mreturn\u001b[0m \u001b[0mself\u001b[0m\u001b[0;34m.\u001b[0m\u001b[0mto_frame\u001b[0m\u001b[0;34m(\u001b[0m\u001b[0;34m)\u001b[0m\u001b[0;34m.\u001b[0m\u001b[0mto_csv\u001b[0m\u001b[0;34m(\u001b[0m\u001b[0;34m**\u001b[0m\u001b[0mkwargs\u001b[0m\u001b[0;34m)\u001b[0m\u001b[0;34m\u001b[0m\u001b[0;34m\u001b[0m\u001b[0m\n\u001b[0m\u001b[1;32m   4204\u001b[0m \u001b[0;34m\u001b[0m\u001b[0m\n\u001b[1;32m   4205\u001b[0m     \u001b[0;34m@\u001b[0m\u001b[0mAppender\u001b[0m\u001b[0;34m(\u001b[0m\u001b[0mgeneric\u001b[0m\u001b[0;34m.\u001b[0m\u001b[0m_shared_docs\u001b[0m\u001b[0;34m[\u001b[0m\u001b[0;34m'isna'\u001b[0m\u001b[0;34m]\u001b[0m \u001b[0;34m%\u001b[0m \u001b[0m_shared_doc_kwargs\u001b[0m\u001b[0;34m)\u001b[0m\u001b[0;34m\u001b[0m\u001b[0;34m\u001b[0m\u001b[0m\n",
      "\u001b[0;32m/anaconda3/lib/python3.6/site-packages/pandas/core/generic.py\u001b[0m in \u001b[0;36mto_csv\u001b[0;34m(self, path_or_buf, sep, na_rep, float_format, columns, header, index, index_label, mode, encoding, compression, quoting, quotechar, line_terminator, chunksize, tupleize_cols, date_format, doublequote, escapechar, decimal)\u001b[0m\n\u001b[1;32m   3018\u001b[0m                                  \u001b[0mdoublequote\u001b[0m\u001b[0;34m=\u001b[0m\u001b[0mdoublequote\u001b[0m\u001b[0;34m,\u001b[0m\u001b[0;34m\u001b[0m\u001b[0;34m\u001b[0m\u001b[0m\n\u001b[1;32m   3019\u001b[0m                                  escapechar=escapechar, decimal=decimal)\n\u001b[0;32m-> 3020\u001b[0;31m         \u001b[0mformatter\u001b[0m\u001b[0;34m.\u001b[0m\u001b[0msave\u001b[0m\u001b[0;34m(\u001b[0m\u001b[0;34m)\u001b[0m\u001b[0;34m\u001b[0m\u001b[0;34m\u001b[0m\u001b[0m\n\u001b[0m\u001b[1;32m   3021\u001b[0m \u001b[0;34m\u001b[0m\u001b[0m\n\u001b[1;32m   3022\u001b[0m         \u001b[0;32mif\u001b[0m \u001b[0mpath_or_buf\u001b[0m \u001b[0;32mis\u001b[0m \u001b[0;32mNone\u001b[0m\u001b[0;34m:\u001b[0m\u001b[0;34m\u001b[0m\u001b[0;34m\u001b[0m\u001b[0m\n",
      "\u001b[0;32m/anaconda3/lib/python3.6/site-packages/pandas/io/formats/csvs.py\u001b[0m in \u001b[0;36msave\u001b[0;34m(self)\u001b[0m\n\u001b[1;32m    155\u001b[0m             f, handles = _get_handle(self.path_or_buf, self.mode,\n\u001b[1;32m    156\u001b[0m                                      \u001b[0mencoding\u001b[0m\u001b[0;34m=\u001b[0m\u001b[0mself\u001b[0m\u001b[0;34m.\u001b[0m\u001b[0mencoding\u001b[0m\u001b[0;34m,\u001b[0m\u001b[0;34m\u001b[0m\u001b[0;34m\u001b[0m\u001b[0m\n\u001b[0;32m--> 157\u001b[0;31m                                      compression=self.compression)\n\u001b[0m\u001b[1;32m    158\u001b[0m             \u001b[0mclose\u001b[0m \u001b[0;34m=\u001b[0m \u001b[0;32mTrue\u001b[0m\u001b[0;34m\u001b[0m\u001b[0;34m\u001b[0m\u001b[0m\n\u001b[1;32m    159\u001b[0m \u001b[0;34m\u001b[0m\u001b[0m\n",
      "\u001b[0;32m/anaconda3/lib/python3.6/site-packages/pandas/io/common.py\u001b[0m in \u001b[0;36m_get_handle\u001b[0;34m(path_or_buf, mode, encoding, compression, memory_map, is_text)\u001b[0m\n\u001b[1;32m    422\u001b[0m         \u001b[0;32melif\u001b[0m \u001b[0mencoding\u001b[0m\u001b[0;34m:\u001b[0m\u001b[0;34m\u001b[0m\u001b[0;34m\u001b[0m\u001b[0m\n\u001b[1;32m    423\u001b[0m             \u001b[0;31m# Python 3 and encoding\u001b[0m\u001b[0;34m\u001b[0m\u001b[0;34m\u001b[0m\u001b[0;34m\u001b[0m\u001b[0m\n\u001b[0;32m--> 424\u001b[0;31m             \u001b[0mf\u001b[0m \u001b[0;34m=\u001b[0m \u001b[0mopen\u001b[0m\u001b[0;34m(\u001b[0m\u001b[0mpath_or_buf\u001b[0m\u001b[0;34m,\u001b[0m \u001b[0mmode\u001b[0m\u001b[0;34m,\u001b[0m \u001b[0mencoding\u001b[0m\u001b[0;34m=\u001b[0m\u001b[0mencoding\u001b[0m\u001b[0;34m,\u001b[0m \u001b[0mnewline\u001b[0m\u001b[0;34m=\u001b[0m\u001b[0;34m\"\"\u001b[0m\u001b[0;34m)\u001b[0m\u001b[0;34m\u001b[0m\u001b[0;34m\u001b[0m\u001b[0m\n\u001b[0m\u001b[1;32m    425\u001b[0m         \u001b[0;32melif\u001b[0m \u001b[0mis_text\u001b[0m\u001b[0;34m:\u001b[0m\u001b[0;34m\u001b[0m\u001b[0;34m\u001b[0m\u001b[0m\n\u001b[1;32m    426\u001b[0m             \u001b[0;31m# Python 3 and no explicit encoding\u001b[0m\u001b[0;34m\u001b[0m\u001b[0;34m\u001b[0m\u001b[0;34m\u001b[0m\u001b[0m\n",
      "\u001b[0;31mFileNotFoundError\u001b[0m: [Errno 2] No such file or directory: '/Users/carl/Desktop/side_projects/google_rss_analysis/data/2019-03-26.csv'"
     ]
    }
   ],
   "source": [
    "str_today = datetime.today().strftime('%Y-%m-%d')\n",
    "result_csv = result.to_csv(f\"/Users/carl/Desktop/side_projects/google_rss_analysis/data/{str_today}.csv\")"
   ]
  },
  {
   "cell_type": "code",
   "execution_count": null,
   "metadata": {},
   "outputs": [],
   "source": []
  }
 ],
 "metadata": {
  "kernelspec": {
   "display_name": "Python 3",
   "language": "python",
   "name": "python3"
  },
  "language_info": {
   "codemirror_mode": {
    "name": "ipython",
    "version": 3
   },
   "file_extension": ".py",
   "mimetype": "text/x-python",
   "name": "python",
   "nbconvert_exporter": "python",
   "pygments_lexer": "ipython3",
   "version": "3.6.8"
  }
 },
 "nbformat": 4,
 "nbformat_minor": 2
}
